{
  "nbformat": 4,
  "nbformat_minor": 0,
  "metadata": {
    "colab": {
      "provenance": []
    },
    "kernelspec": {
      "name": "python3",
      "display_name": "Python 3"
    },
    "language_info": {
      "name": "python"
    }
  },
  "cells": [
    {
      "cell_type": "code",
      "source": [
        "import numpy as np\n",
        "arr = np.arange(1, 10, 2)\n",
        "print(arr)"
      ],
      "metadata": {
        "id": "5MxG5yh4Z_4L"
      },
      "execution_count": null,
      "outputs": []
    },
    {
      "cell_type": "code",
      "source": [
        "import numpy as np\n",
        "array = np.ones((3, 4))\n",
        "print(array)\n"
      ],
      "metadata": {
        "colab": {
          "base_uri": "https://localhost:8080/"
        },
        "id": "dZVGQXAAazB6",
        "outputId": "0641cbb0-7d83-4ff9-fa05-6c547fc3cd38"
      },
      "execution_count": 7,
      "outputs": [
        {
          "output_type": "stream",
          "name": "stdout",
          "text": [
            "[[1. 1. 1. 1.]\n",
            " [1. 1. 1. 1.]\n",
            " [1. 1. 1. 1.]]\n"
          ]
        }
      ]
    },
    {
      "cell_type": "code",
      "source": [
        "import numpy as np\n",
        "\n",
        "division_array = np.linspace(0, 1, 10)\n",
        "\n",
        "print(division_array)\n"
      ],
      "metadata": {
        "colab": {
          "base_uri": "https://localhost:8080/"
        },
        "id": "XFm_1OWEeZm6",
        "outputId": "0b644a4e-5a96-438a-ca17-5dbe1611c562"
      },
      "execution_count": 9,
      "outputs": [
        {
          "output_type": "stream",
          "name": "stdout",
          "text": [
            "[0.         0.11111111 0.22222222 0.33333333 0.44444444 0.55555556\n",
            " 0.66666667 0.77777778 0.88888889 1.        ]\n"
          ]
        }
      ]
    },
    {
      "cell_type": "code",
      "execution_count": 1,
      "metadata": {
        "colab": {
          "base_uri": "https://localhost:8080/"
        },
        "id": "sERRAmlfUvTV",
        "outputId": "18183684-b4ee-40b8-dbcf-56763d51d0b1"
      },
      "outputs": [
        {
          "output_type": "stream",
          "name": "stdout",
          "text": [
            "(5, 5)\n",
            "19 값: 19\n",
            "[[1, 2], [6, 7]] 슬라이싱 결과:\n",
            "[[1 2]\n",
            " [6 7]]\n",
            "[[19, 20], [24, 25]] 슬라이싱 결과:\n",
            "[[19 20]\n",
            " [24 25]]\n",
            "0축의 첫 번째 행과 두 번째 행:\n",
            "[[ 1  2  3  4  5]\n",
            " [ 6  7  8  9 10]]\n",
            "1축의 마지막 열과 마지막 직전 열:\n",
            "[[ 4  5]\n",
            " [ 9 10]\n",
            " [14 15]\n",
            " [19 20]\n",
            " [24 25]]\n"
          ]
        }
      ],
      "source": [
        "import numpy as np\n",
        "\n",
        "A = np.array([\n",
        "    [1, 2, 3, 4, 5],\n",
        "    [6, 7, 8, 9, 10],\n",
        "    [11, 12, 13, 14, 15],\n",
        "    [16, 17, 18, 19, 20],\n",
        "    [21, 22, 23, 24, 25]])\n",
        "\n",
        "print(A.shape)\n",
        "\n",
        "value_19 = A[3, 3]\n",
        "print(\"19 값:\", value_19)\n",
        "\n",
        "slice1 = A[:2, :2]\n",
        "print(slice1)\n",
        "\n",
        "slice2 = A[3:, 3:]\n",
        "print(slice2)\n",
        "\n",
        "rows_01 = A[:2, :]\n",
        "print(rows_01)\n",
        "\n",
        "cols_last_two = A[:, -2:]\n",
        "print(cols_last_two)\n"
      ]
    },
    {
      "cell_type": "code",
      "source": [
        "import numpy as np\n",
        "array = np.array([[[1,2,3,4],\n",
        "                   [5,6,7,8],\n",
        "                   9,10,11,12]],\n",
        "                 [[13,14,15,16],\n",
        "                  [17,18,19,20],\n",
        "                 [21,22,23,24]]\n",
        "                 [[25,26,27,28],\n",
        "                  [29,30,31,32],\n",
        "                  [33,34,35,36]]])"
      ],
      "metadata": {
        "id": "Md--juddb5H8"
      },
      "execution_count": null,
      "outputs": []
    },
    {
      "cell_type": "code",
      "source": [
        "import numpy as np\n",
        "\n",
        "arr = np.arange(1, 37)\n",
        "\n",
        "matrix_3d = arr.reshape(3, 4, -1)\n",
        "\n",
        "print(matrix_3d)"
      ],
      "metadata": {
        "colab": {
          "base_uri": "https://localhost:8080/"
        },
        "id": "PQMzBxxPcx8r",
        "outputId": "b86072b2-f1ac-4ef0-fe4b-eeb91d339e95"
      },
      "execution_count": 6,
      "outputs": [
        {
          "output_type": "stream",
          "name": "stdout",
          "text": [
            "[[[ 1  2  3]\n",
            "  [ 4  5  6]\n",
            "  [ 7  8  9]\n",
            "  [10 11 12]]\n",
            "\n",
            " [[13 14 15]\n",
            "  [16 17 18]\n",
            "  [19 20 21]\n",
            "  [22 23 24]]\n",
            "\n",
            " [[25 26 27]\n",
            "  [28 29 30]\n",
            "  [31 32 33]\n",
            "  [34 35 36]]]\n"
          ]
        }
      ]
    },
    {
      "cell_type": "markdown",
      "source": [
        "모르겠습니다.."
      ],
      "metadata": {
        "id": "yPUnEqTMdz97"
      }
    }
  ]
}