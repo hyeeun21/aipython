{
  "nbformat": 4,
  "nbformat_minor": 0,
  "metadata": {
    "colab": {
      "provenance": []
    },
    "kernelspec": {
      "name": "python3",
      "display_name": "Python 3"
    },
    "language_info": {
      "name": "python"
    }
  },
  "cells": [
    {
      "cell_type": "code",
      "execution_count": 2,
      "metadata": {
        "colab": {
          "base_uri": "https://localhost:8080/"
        },
        "id": "rkDxvBLF2PKV",
        "outputId": "1c4182da-5187-479b-e5b2-e4250b9d0879"
      },
      "outputs": [
        {
          "output_type": "stream",
          "name": "stdout",
          "text": [
            "apple\n"
          ]
        }
      ],
      "source": [
        "#다음리스트에서 \"apple\" 요소를 출력하세요\n",
        "fruits= [\"banana\", \"apple\", \"orange\", \"cherry\"]\n",
        "print(fruits[1])"
      ]
    },
    {
      "cell_type": "code",
      "source": [
        "#다음 리스트에서 마지막 요소를 출력하세요\n",
        "numbers = [10, 20, 30, 40, 50]\n",
        "print(numbers[-1])\n",
        "#무조건 마이너스 입력하면 마지막 요소 출력 가능"
      ],
      "metadata": {
        "colab": {
          "base_uri": "https://localhost:8080/"
        },
        "id": "isj3Ug22DpHS",
        "outputId": "a0b2a960-20cf-4710-bb2a-068ea3e953cf"
      },
      "execution_count": 3,
      "outputs": [
        {
          "output_type": "stream",
          "name": "stdout",
          "text": [
            "50\n"
          ]
        }
      ]
    },
    {
      "cell_type": "code",
      "source": [
        "#다음 리스트에서 \"banana\" 요소를 \"grape\"로 변경하세요\n",
        "fruits = [\"apple\", \"banana\", \"cherry\"]\n",
        "fruits[1] = \"grape\"\n",
        "print(fruits)"
      ],
      "metadata": {
        "colab": {
          "base_uri": "https://localhost:8080/"
        },
        "id": "ztS1I3txD4OJ",
        "outputId": "63e0af09-8fd0-49cd-ed1a-2cc6f22413aa"
      },
      "execution_count": 5,
      "outputs": [
        {
          "output_type": "stream",
          "name": "stdout",
          "text": [
            "['apple', 'grape', 'cherry']\n"
          ]
        }
      ]
    },
    {
      "cell_type": "code",
      "source": [
        "#다음 리스트에 \"strawberry\" 요소를 추가하세요\n",
        "fruits = [\"apple\", \"banana\", \"cherry\"]\n",
        "fruits.append(\"strawberry\")\n",
        "print(fruits)"
      ],
      "metadata": {
        "colab": {
          "base_uri": "https://localhost:8080/"
        },
        "id": "7cQprv70ERGi",
        "outputId": "5ca9071c-132d-49ae-85ee-e8b8ab568eeb"
      },
      "execution_count": 6,
      "outputs": [
        {
          "output_type": "stream",
          "name": "stdout",
          "text": [
            "['apple', 'banana', 'cherry', 'strawberry']\n"
          ]
        }
      ]
    },
    {
      "cell_type": "code",
      "source": [
        "#다음 리스트에서 30을 제거하세요\n",
        "numbers = [10, 20, 30, 40, 50]\n",
        "numbers.remove(30)     # numbers.pop(2)도 가능\n",
        "print(numbers)"
      ],
      "metadata": {
        "colab": {
          "base_uri": "https://localhost:8080/"
        },
        "id": "_mIoD5N8FF2r",
        "outputId": "09ba5977-0e89-4b6a-c5e3-e4f1638a2f90"
      },
      "execution_count": 8,
      "outputs": [
        {
          "output_type": "stream",
          "name": "stdout",
          "text": [
            "[10, 20, 40, 50]\n"
          ]
        }
      ]
    },
    {
      "cell_type": "code",
      "source": [
        "#다음 리스트의 길이를 출력하세요\n",
        "numbers = [5, 10, 15, 20, 25]\n",
        "len(numbers)"
      ],
      "metadata": {
        "colab": {
          "base_uri": "https://localhost:8080/"
        },
        "id": "XpVTRniMFmV6",
        "outputId": "6c6e5898-535a-40d7-f593-61d5cf824dbe"
      },
      "execution_count": 15,
      "outputs": [
        {
          "output_type": "execute_result",
          "data": {
            "text/plain": [
              "5"
            ]
          },
          "metadata": {},
          "execution_count": 15
        }
      ]
    },
    {
      "cell_type": "code",
      "source": [
        "from re import M\n",
        "#다음 리스트에서 가장 작은 값/ 가장 큰 값을 찾아 출력하세요\n",
        "numbers = [10, 5, 8, 3, 15]\n",
        "print(min(numbers))\n",
        "print(max(numbers))"
      ],
      "metadata": {
        "colab": {
          "base_uri": "https://localhost:8080/"
        },
        "id": "XSDdIh9_JZiT",
        "outputId": "ace8c8ef-4cc1-4da1-e16c-3347ec9f0424"
      },
      "execution_count": 24,
      "outputs": [
        {
          "output_type": "stream",
          "name": "stdout",
          "text": [
            "3\n",
            "15\n"
          ]
        }
      ]
    },
    {
      "cell_type": "code",
      "source": [
        "#다음 리스트의 모든 요소의 합을 계산하여 출력하세요"
      ],
      "metadata": {
        "id": "Z3N74anPJlJx"
      },
      "execution_count": null,
      "outputs": []
    },
    {
      "cell_type": "code",
      "source": [
        "#다음 리스트의 모든 요소를 제곱하여 새로운 리스트를 생성하세요\n",
        "numbers = [1, 2, 3, 4, 5]\n",
        "newlist=[]\n",
        "for num in numbers:\n",
        "  newlist.append(num**2)\n",
        "print(newlist)"
      ],
      "metadata": {
        "colab": {
          "base_uri": "https://localhost:8080/"
        },
        "id": "qHkk5MUEGBlJ",
        "outputId": "0d2e191e-674c-4f0e-efae-6e526a5f41b0"
      },
      "execution_count": 10,
      "outputs": [
        {
          "output_type": "stream",
          "name": "stdout",
          "text": [
            "[1, 4, 9, 16, 25]\n"
          ]
        }
      ]
    },
    {
      "cell_type": "code",
      "source": [
        "#다음 리스트에서 \"apple\" 요소의 개수를 출력하세요"
      ],
      "metadata": {
        "id": "TsG0FPVaJt-R"
      },
      "execution_count": null,
      "outputs": []
    },
    {
      "cell_type": "markdown",
      "source": [
        "함수에 대해서 시작"
      ],
      "metadata": {
        "id": "Xf5gCR5LLLUZ"
      }
    },
    {
      "cell_type": "code",
      "source": [
        "#함수 정의하기\n",
        "def square(x):\n",
        "  return x**2\n",
        "ret=square(5)\n",
        "print(ret)\n",
        "\n",
        "print(square(5))\n",
        "print(square(10))\n",
        "print(square(200))"
      ],
      "metadata": {
        "colab": {
          "base_uri": "https://localhost:8080/"
        },
        "id": "fVs-DAdXLQgI",
        "outputId": "e6be2b6e-8259-4680-dd00-573d6fc0548e"
      },
      "execution_count": 14,
      "outputs": [
        {
          "output_type": "stream",
          "name": "stdout",
          "text": [
            "25\n",
            "25\n",
            "100\n",
            "40000\n"
          ]
        }
      ]
    },
    {
      "cell_type": "code",
      "source": [
        "#다음 리스트의 모든 요소를 제곱하여 새로운 리스트를 생성하세요- 이걸 해결할 수 있는 함수 만들기\n",
        "def square(numbers):\n",
        "  newlist=[]\n",
        "  for num in numbers:\n",
        "    newlist.append(num**2)\n",
        "  return newlist\n",
        "\n",
        "new = square([1, 2, 3, 4, 5])\n",
        "print(new)"
      ],
      "metadata": {
        "colab": {
          "base_uri": "https://localhost:8080/"
        },
        "id": "oaOZZL6cM05y",
        "outputId": "924c089b-bc37-4962-e719-14a834c86cd5"
      },
      "execution_count": 21,
      "outputs": [
        {
          "output_type": "stream",
          "name": "stdout",
          "text": [
            "[1, 4, 9, 16, 25]\n"
          ]
        }
      ]
    },
    {
      "cell_type": "markdown",
      "source": [
        "오늘 내용 활용해서 문제 풀기"
      ],
      "metadata": {
        "id": "TfoScBbEPBpv"
      }
    },
    {
      "cell_type": "code",
      "source": [
        "#BMI 지수 계산해주는 함수 만들기\n"
def c_bmi(weight, height):
  height_m = height / 100
  bmi = weight / ((height_m*100) ** 2)
  return bmi

height = float(input("키를 입력하세요"))
weight = float(input("체중을 입력하세요"))

bmi_result = c_bmi(weight, height)
print(bmi_result)
