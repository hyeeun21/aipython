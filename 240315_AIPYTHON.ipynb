{
  "nbformat": 4,
  "nbformat_minor": 0,
  "metadata": {
    "colab": {
      "provenance": []
    },
    "kernelspec": {
      "name": "python3",
      "display_name": "Python 3"
    },
    "language_info": {
      "name": "python"
    }
  },
  "cells": [
    {
      "cell_type": "markdown",
      "source": [
        "##두 수를 입력받아서 합을 출력하는 프로그램**"
      ],
      "metadata": {
        "id": "6WLOd3iyAAJ_"
      }
    },
    {
      "cell_type": "code",
      "source": [],
      "metadata": {
        "id": "N6Z2OmAB__EB"
      },
      "execution_count": null,
      "outputs": []
    },
    {
      "cell_type": "markdown",
      "source": [],
      "metadata": {
        "id": "iaVV4iVo_9zH"
      }
    },
    {
      "cell_type": "code",
      "execution_count": 5,
      "metadata": {
        "colab": {
          "base_uri": "https://localhost:8080/"
        },
        "id": "kJZk6Hwu-X-8",
        "outputId": "e32be53a-57cf-402b-88d3-6dbb9bcc7d06"
      },
      "outputs": [
        {
          "output_type": "stream",
          "name": "stdout",
          "text": [
            "두 정수 A와 B를 입력하세요: 1 2\n",
            "두 정수의 합은 3\n"
          ]
        }
      ],
      "source": [
        "A, B = map(int, input(\"두 정수 A와 B를 입력하세요: \").split())\n",
        "result = A + B\n",
        "print(\"두 정수의 합은\", result)"
      ]
    },
    {
      "cell_type": "code",
      "source": [
        "print(\"Hello Python\")"
      ],
      "metadata": {
        "colab": {
          "base_uri": "https://localhost:8080/"
        },
        "id": "pGGHJ6Tw_76R",
        "outputId": "c53a06ee-c3c6-403d-f1b3-f36110e7543a"
      },
      "execution_count": 6,
      "outputs": [
        {
          "output_type": "stream",
          "name": "stdout",
          "text": [
            "Hello Python\n"
          ]
        }
      ]
    },
    {
      "cell_type": "code",
      "source": [],
      "metadata": {
        "id": "3kSM-CYuAWVB"
      },
      "execution_count": null,
      "outputs": []
    }
  ]
}